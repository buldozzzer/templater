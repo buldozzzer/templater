{
 "cells": [
  {
   "cell_type": "code",
   "execution_count": 1,
   "metadata": {},
   "outputs": [],
   "source": [
    "from pathlib import Path\n",
    "from shutil import make_archive\n",
    "import os\n",
    "import re\n",
    "from slugify import slugify\n",
    "from docx.shared import Pt\n",
    "import docx\n",
    "import pandas as pd\n",
    "\n",
    "ALLOWED_EXTENSIONS = set(['docx', 'doc'])\n",
    "ALLOWED_TEMPLATES = {\n",
    "    'name': '{{наименование}}',\n",
    "    'inventory_n': '{{инвентарный номер}}',\n",
    "    'responsible': '{{ответственный сотрудник}}',\n",
    "    'otss_category': '{{отсс}}',\n",
    "    'condition': '{{состояние}}',\n",
    "    'unit_from': '{{откуда поступила}}',\n",
    "    'in_operation': '{{используется}}',\n",
    "    'fault_document_requisites': '{{документы о неисправности}}',\n",
    "    'date_of_receipt': '{{дата поступления}}',\n",
    "    'number_of_receipt': '{{номер требования}}',\n",
    "    'requisites': '{{реквизиты книги учета}}',\n",
    "    'transfer_date': '{{дата передачи}}',\n",
    "    'otss_requisites':'{{реквизиты отсс}}',\n",
    "    'spsi_requisites': '{{реквизиты спси}}',\n",
    "    'transfer_requisites': '{{реквизиты о передаче}}',\n",
    "    'last_check': '{{последняя проверка}}',\n",
    "    'comment': '{{примечания}}',\n",
    "    'user': '{{кому передали}}',\n",
    "    'components': '{{компоненты}}'\n",
    "}\n",
    "XLSX_FILENAME = 'test.xlsx'\n",
    "DOCX_FILENAME = 'test.docx'\n",
    "MEDIA_FOLDER_GL = ''"
   ]
  },
  {
   "cell_type": "code",
   "execution_count": 2,
   "metadata": {},
   "outputs": [],
   "source": [
    "def docx_size():\n",
    "    \"\"\"\n",
    "    Осуществляем проверку, не является ли docx файл пустым\n",
    "    :return: Количество шаблонов в файле\n",
    "    \"\"\"\n",
    "    size = 0\n",
    "    global DOCX_FILENAME\n",
    "    try:\n",
    "        doc = docx.Document(DOCX_FILENAME)\n",
    "        size = len(find_docx_templates(doc))\n",
    "    except AttributeError as error:\n",
    "        print(error)\n",
    "        # log.exception('Error with {}'.format(str(error)))\n",
    "\n",
    "    return size"
   ]
  },
  {
   "cell_type": "code",
   "execution_count": 3,
   "metadata": {},
   "outputs": [],
   "source": [
    "def find_docx_templates(doc):\n",
    "    \"\"\"\n",
    "    Поиск всех шаблонов в docx документе\n",
    "    :param doc(Document(file)) - открытый docx-файл\n",
    "    :return: set(шаблонов)\n",
    "    \"\"\"\n",
    "    templates = []\n",
    "    try:\n",
    "        for paragraph in doc.paragraphs:\n",
    "            for match in re.finditer('\\\\{\\\\{.*?\\\\}\\\\}', paragraph.text):\n",
    "                templates.insert(0, match.group(0))\n",
    "        for table in doc.tables:\n",
    "            for row in table.rows:\n",
    "                for cell in row.cells:\n",
    "                    templates = templates + find_docx_templates(cell)\n",
    "    except AttributeError as error:\n",
    "        print(error)\n",
    "        # log.exception('Error with {}'.format(str(error)))\n",
    "\n",
    "    sorted(list(templates))\n",
    "    return templates"
   ]
  },
  {
   "cell_type": "code",
   "execution_count": 4,
   "metadata": {},
   "outputs": [],
   "source": [
    "def get_docx_templates(filename):\n",
    "    \"\"\"\n",
    "    Метод для получения шаблонов из docx файла\n",
    "    :return: set(шаблонов)\n",
    "    \"\"\"\n",
    "    docx_templates = []\n",
    "    try:\n",
    "        doc = docx.Document(filename)\n",
    "        docx_templates = find_docx_templates(doc)\n",
    "    except AttributeError as error:\n",
    "        print(error)\n",
    "        # log.exception('Error with {}'.format(str(error)))\n",
    "\n",
    "    return docx_templates"
   ]
  },
  {
   "cell_type": "code",
   "execution_count": 5,
   "metadata": {},
   "outputs": [
    {
     "data": {
      "text/plain": [
       "set()"
      ]
     },
     "execution_count": 5,
     "metadata": {},
     "output_type": "execute_result"
    }
   ],
   "source": [
    "def check_templates(all_templates):\n",
    "    global ALLOWED_TEMPLATES\n",
    "    correct_templates = ALLOWED_TEMPLATES.values()\n",
    "    incorrect_templates = set()\n",
    "    for template in all_templates:\n",
    "        if template not in correct_templates:\n",
    "            incorrect_templates.add(template)\n",
    "    return incorrect_templates\n",
    "check_templates(get_docx_templates('test.docx'))"
   ]
  },
  {
   "cell_type": "code",
   "execution_count": 6,
   "metadata": {},
   "outputs": [
    {
     "name": "stdout",
     "output_type": "stream",
     "text": [
      "[{'{{наименование}}': 'test_name_1', '{{инвентарный номер}}': 1, '{{ответственный сотрудник}}': 'БСА'}, {'{{наименование}}': 'test_name_2', '{{инвентарный номер}}': 2}]\n"
     ]
    }
   ],
   "source": [
    "payload = [\n",
    "    {\n",
    "    'name' : 'test_name_1',\n",
    "    'inventory_n': 1,\n",
    "    'responsible': 'БСА'\n",
    "    },\n",
    "    {\n",
    "    'name' : 'test_name_2',\n",
    "    'inventory_n': 2\n",
    "    },\n",
    "]\n",
    "\n",
    "def prep_data(payload: list):\n",
    "    global ALLOWED_TEMPLATES\n",
    "    keys = ALLOWED_TEMPLATES.keys()\n",
    "    prep_payload = []\n",
    "    for item in payload:\n",
    "        prep_item = {}\n",
    "        for field in item:\n",
    "            prep_item[ALLOWED_TEMPLATES[field]]  = item[field]\n",
    "            if prep_item[ALLOWED_TEMPLATES[field]] is None:\n",
    "                prep_item[ALLOWED_TEMPLATES[field]] = ''\n",
    "        prep_payload += [prep_item]\n",
    "    return prep_payload\n",
    "\n",
    "print(prep_data(payload))"
   ]
  },
  {
   "cell_type": "code",
   "execution_count": 7,
   "metadata": {},
   "outputs": [
    {
     "name": "stdout",
     "output_type": "stream",
     "text": [
      "{{инвентарный номер}} {{наименование}} {{наименование}} {{ответственный сотрудник}} {{наименование}} {{ответственный сотрудник}}\n"
     ]
    }
   ],
   "source": [
    "print(*get_docx_templates('test.docx'))"
   ]
  },
  {
   "cell_type": "code",
   "execution_count": 8,
   "metadata": {},
   "outputs": [],
   "source": [
    "def docx_write(document, substr, replace):\n",
    "    \"\"\"\n",
    "    Основная функция для замены шаблонов из таблицы\n",
    "    в docx-документ\n",
    "    :param document: Document(file) - открытый docx-файл\n",
    "    :param substr: Первая строка в одном из наборов mini_dict\n",
    "    :param replace: Вторая строка в одном из наборов mini_dict\n",
    "    :return:\n",
    "    \"\"\"\n",
    "    #style = document.styles['Normal']\n",
    "    #font = style.font\n",
    "    #font.name = 'Times New Roman'\n",
    "    #font.size = Pt(14)\n",
    "\n",
    "    for parg in document.paragraphs:\n",
    "        if substr in parg.text:\n",
    "            inline = parg.runs\n",
    "            was_replaced = False\n",
    "            for i in range(len(inline)):\n",
    "                if substr in inline[i].text:\n",
    "                    text = inline[i].text.replace(substr, replace)\n",
    "                    was_replaced = True\n",
    "                    inline[i].text = text\n",
    "            if not was_replaced:\n",
    "                text = parg.text.replace(substr, replace)\n",
    "                parg.text = text\n",
    "    for table in document.tables:\n",
    "        for row in table.rows:\n",
    "            for cell in row.cells:\n",
    "                docx_write(cell, substr, replace)"
   ]
  },
  {
   "cell_type": "code",
   "execution_count": 22,
   "metadata": {},
   "outputs": [],
   "source": [
    "def final_replacement(filename, payload, merge_doc):\n",
    "    final_data = prep_data(payload)\n",
    "    replaceable_templates = get_docx_templates(filename)\n",
    "    for item, i in zip(final_data, range(len(final_data))):\n",
    "        print(item)\n",
    "        print(i)\n",
    "        print()\n",
    "        document = docx.Document(filename)\n",
    "        for template in replaceable_templates:\n",
    "            try:\n",
    "                docx_write(document, template, str(item[template]))\n",
    "                if os.name == 'nt':\n",
    "                    document.save('generated/Документ-{}.docx'.format(i+1))\n",
    "                elif os.name == 'posix':\n",
    "                    document.save('generated/Документ-{}.docx'.format(i+1))\n",
    "            except KeyError as error:\n",
    "                continue\n",
    "    if merge_doc:\n",
    "        documents = os.listdir(os.getcwd() + '/generated')\n",
    "        combine_word_documents(documents)\n",
    "        result_path = make_archive('Документы', \n",
    "                                   'zip', \n",
    "                                   root_dir='generated', \n",
    "                                   base_dir='.')\n",
    "    else:\n",
    "        result_path = make_archive('Документы', \n",
    "                                   'zip', \n",
    "                                   root_dir='generated', \n",
    "                                   base_dir='.')\n",
    "    return result_path"
   ]
  },
  {
   "cell_type": "code",
   "execution_count": 23,
   "metadata": {},
   "outputs": [
    {
     "name": "stdout",
     "output_type": "stream",
     "text": [
      "{'{{наименование}}': 'test_name_1', '{{инвентарный номер}}': 1, '{{ответственный сотрудник}}': 'БСА'}\n",
      "0\n",
      "\n",
      "{'{{наименование}}': 'test_name_2', '{{инвентарный номер}}': 2}\n",
      "1\n",
      "\n",
      "index: 0, file: Документ-1.docx\n",
      "index: 1, file: Документ-2.docx\n"
     ]
    },
    {
     "data": {
      "text/plain": [
       "'/home/ivan/JupyterProjects/Templater/Документы.zip'"
      ]
     },
     "execution_count": 23,
     "metadata": {},
     "output_type": "execute_result"
    }
   ],
   "source": [
    "payload = [\n",
    "    {\n",
    "    'name' : 'test_name_1',\n",
    "    'inventory_n': 1,\n",
    "    'responsible': 'БСА'\n",
    "    },\n",
    "    {\n",
    "    'name' : 'test_name_2',\n",
    "    'inventory_n': 2\n",
    "    },\n",
    "]\n",
    "final_replacement('test.docx', payload, merge_doc=True)"
   ]
  },
  {
   "cell_type": "code",
   "execution_count": 13,
   "metadata": {},
   "outputs": [],
   "source": [
    "def combine_word_documents(files):\n",
    "    \"\"\"\n",
    "    Метод для слияния файлов в один\n",
    "    :param files: Пути к документам в папке\n",
    "    :return:\n",
    "    \"\"\"\n",
    "    merged_document = docx.Document()\n",
    "    os.chdir(os.getcwd() + '/generated/')\n",
    "    for index, file in enumerate(files):\n",
    "        print('index: {}, file: {}'.format(index, str(file)))\n",
    "        if index == 0:\n",
    "            merged_document = docx.Document(file)\n",
    "            merged_document.add_page_break()\n",
    "        else:\n",
    "            sub_doc = docx.Document(file)\n",
    "            if index < len(files) - 1:\n",
    "                sub_doc.add_page_break()\n",
    "            for element in sub_doc.element.body:\n",
    "                merged_document.element.body.append(element)\n",
    "    # del_all()\n",
    "    merged_document.save('Документы.docx')\n",
    "    os.chdir('..')\n",
    "    return True\n"
   ]
  },
  {
   "cell_type": "code",
   "execution_count": 14,
   "metadata": {},
   "outputs": [
    {
     "name": "stdout",
     "output_type": "stream",
     "text": [
      "['Документы.docx', 'Документ-1.docx', 'Документ-2.docx']\n",
      "index: 0, file: Документы.docx\n",
      "index: 1, file: Документ-1.docx\n",
      "index: 2, file: Документ-2.docx\n"
     ]
    },
    {
     "data": {
      "text/plain": [
       "True"
      ]
     },
     "execution_count": 14,
     "metadata": {},
     "output_type": "execute_result"
    }
   ],
   "source": [
    "documents = os.listdir(os.getcwd() + '/generated')\n",
    "print(documents)\n",
    "combine_word_documents(documents)"
   ]
  },
  {
   "cell_type": "code",
   "execution_count": null,
   "metadata": {},
   "outputs": [],
   "source": []
  }
 ],
 "metadata": {
  "kernelspec": {
   "display_name": "Python 3",
   "language": "python",
   "name": "python3"
  },
  "language_info": {
   "codemirror_mode": {
    "name": "ipython",
    "version": 3
   },
   "file_extension": ".py",
   "mimetype": "text/x-python",
   "name": "python",
   "nbconvert_exporter": "python",
   "pygments_lexer": "ipython3",
   "version": "3.8.5"
  }
 },
 "nbformat": 4,
 "nbformat_minor": 4
}
